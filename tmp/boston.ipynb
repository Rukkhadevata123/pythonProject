{
 "cells": [
  {
   "cell_type": "markdown",
   "metadata": {},
   "source": [
    "# 一、实验介绍\n",
    "\n",
    "## 1. 实验内容\n",
    "\n",
    "本实验从波士顿数据集加载数据，提取数据的头部信息和描述内容，进行数据清洗与预处理，最后通过可视化展示数据的统计特征和关系。\n",
    "\n",
    "## 2. 实验要点\n",
    "\n",
    "- 掌握如何使用pandas进行数据清洗、处理与分析。\n",
    "- 学习如何进行特征工程，处理数值型和分类特征。\n",
    "- 掌握pandas中的分组、聚合和数据透视表的使用。\n",
    "- 学会使用pandas进行数据转换、合并与连接。\n",
    "- 探索高级pandas技巧，如自定义聚合函数和复杂数据筛选。\n",
    "\n",
    "\n",
    "## 3. 实验环境\n",
    "- Python 3.10.16\n",
    "- numpy 1.26.4\n",
    "- pandas 2.2.3\n",
    "- matplotlib 3.10.0\n",
    "- seaborn 0.13.2"
   ]
  },
  {
   "cell_type": "markdown",
   "metadata": {},
   "source": [
    "# 二、实验步骤\n",
    "\n",
    "## 2.1 加载数据集\n",
    "\n",
    "1. 导入必要的库"
   ]
  },
  {
   "cell_type": "code",
   "execution_count": 1,
   "metadata": {
    "execution": {
     "iopub.execute_input": "2025-03-24T07:54:09.870164Z",
     "iopub.status.busy": "2025-03-24T07:54:09.869342Z",
     "iopub.status.idle": "2025-03-24T07:54:09.877147Z",
     "shell.execute_reply": "2025-03-24T07:54:09.875630Z",
     "shell.execute_reply.started": "2025-03-24T07:54:09.870103Z"
    }
   },
   "outputs": [],
   "source": [
    "import pandas as pd\n",
    "import numpy as np\n",
    "import matplotlib.pyplot as plt\n",
    "import seaborn as sns\n",
    "import os"
   ]
  },
  {
   "cell_type": "markdown",
   "metadata": {},
   "source": [
    "> 自 1.2 版起，scikit-learn 已删除了 `load_boston`。\n",
    "\n",
    ">波士顿住房价格数据集存在道德问题：正如\n",
    ">[1]中的调查，该数据集的作者设计了一个不可反转的变量 “B”。\n",
    ">非可逆变量 “B”，假设种族自我隔离对房价有积极影响[2]。\n",
    ">对房价有积极影响[2]。\n",
    ">此外，创建该数据集的研究目标是研究空气质量对房价的影响。\n",
    ">空气质量的影响，但并没有充分证明这一假设的正确性。\n",
    ">这一假设的有效性。\n",
    "\n",
    "> [1] M Carlisle.\"Racist data destruction?\"<https://medium.com/@docintangible/racist-data-destruction-113e3eff54a8>\n",
    "\n",
    ">[2] Harrison Jr, David, and Daniel L. Rubinfeld.\"Hedonic housing prices and the demand for clean air.\"Journal of environmental economics and management 5.1 (1978): 81-102.<https://www.researchgate.net/publication/4974606_Hedonic_housing_prices_and_the_demand_for_clean_air>\n",
    "\n",
    "2. 加载波士顿房价数据集\n",
    "\n",
    "通过数据集原文件直接加载波士顿房价数据集。通过提取文件指定行信息获得数据内容，其中data是特征矩阵，target是目标变量。"
   ]
  },
  {
   "cell_type": "code",
   "execution_count": 2,
   "metadata": {
    "execution": {
     "iopub.execute_input": "2025-03-24T07:54:10.298015Z",
     "iopub.status.busy": "2025-03-24T07:54:10.297238Z",
     "iopub.status.idle": "2025-03-24T07:54:10.307575Z",
     "shell.execute_reply": "2025-03-24T07:54:10.306183Z",
     "shell.execute_reply.started": "2025-03-24T07:54:10.297957Z"
    }
   },
   "outputs": [],
   "source": [
    "data_file=\"boston\"\n",
    "data_url = data_file if os.path.exists(data_file) else \"http://lib.stat.cmu.edu/datasets/boston\"\n",
    "header_and_desc = [ line.strip() for line in open(data_url, encoding=\"utf-8\").readlines()[7:21]]\n",
    "headers, descs = zip(*[item.split(maxsplit=1) for item in header_and_desc])"
   ]
  },
  {
   "cell_type": "code",
   "execution_count": 3,
   "metadata": {
    "execution": {
     "iopub.execute_input": "2025-03-24T07:54:10.479003Z",
     "iopub.status.busy": "2025-03-24T07:54:10.478140Z",
     "iopub.status.idle": "2025-03-24T07:54:10.491412Z",
     "shell.execute_reply": "2025-03-24T07:54:10.490070Z",
     "shell.execute_reply.started": "2025-03-24T07:54:10.478946Z"
    }
   },
   "outputs": [],
   "source": [
    "raw_df = pd.read_csv(data_url, sep=r\"\\s+\", skiprows=22, header=None)\n",
    "data = np.hstack([raw_df.values[::2, :], raw_df.values[1::2, :2]])\n",
    "target = raw_df.values[1::2, 2]"
   ]
  },
  {
   "cell_type": "markdown",
   "metadata": {},
   "source": [
    "通过DataFrame组成df对象便于后续实验的数据处理和分析过程。"
   ]
  },
  {
   "cell_type": "code",
   "execution_count": 4,
   "metadata": {
    "execution": {
     "iopub.execute_input": "2025-03-24T07:54:10.854206Z",
     "iopub.status.busy": "2025-03-24T07:54:10.853447Z",
     "iopub.status.idle": "2025-03-24T07:54:10.887218Z",
     "shell.execute_reply": "2025-03-24T07:54:10.885981Z",
     "shell.execute_reply.started": "2025-03-24T07:54:10.854152Z"
    }
   },
   "outputs": [
    {
     "data": {
      "text/html": [
       "<div>\n",
       "<style scoped>\n",
       "    .dataframe tbody tr th:only-of-type {\n",
       "        vertical-align: middle;\n",
       "    }\n",
       "\n",
       "    .dataframe tbody tr th {\n",
       "        vertical-align: top;\n",
       "    }\n",
       "\n",
       "    .dataframe thead th {\n",
       "        text-align: right;\n",
       "    }\n",
       "</style>\n",
       "<table border=\"1\" class=\"dataframe\">\n",
       "  <thead>\n",
       "    <tr style=\"text-align: right;\">\n",
       "      <th></th>\n",
       "      <th>CRIM</th>\n",
       "      <th>ZN</th>\n",
       "      <th>INDUS</th>\n",
       "      <th>CHAS</th>\n",
       "      <th>NOX</th>\n",
       "      <th>RM</th>\n",
       "      <th>AGE</th>\n",
       "      <th>DIS</th>\n",
       "      <th>RAD</th>\n",
       "      <th>TAX</th>\n",
       "      <th>PTRATIO</th>\n",
       "      <th>B</th>\n",
       "      <th>LSTAT</th>\n",
       "      <th>PRICE</th>\n",
       "    </tr>\n",
       "  </thead>\n",
       "  <tbody>\n",
       "    <tr>\n",
       "      <th>0</th>\n",
       "      <td>0.00632</td>\n",
       "      <td>18.0</td>\n",
       "      <td>2.31</td>\n",
       "      <td>0.0</td>\n",
       "      <td>0.538</td>\n",
       "      <td>6.575</td>\n",
       "      <td>65.2</td>\n",
       "      <td>4.0900</td>\n",
       "      <td>1.0</td>\n",
       "      <td>296.0</td>\n",
       "      <td>15.3</td>\n",
       "      <td>396.90</td>\n",
       "      <td>4.98</td>\n",
       "      <td>24.0</td>\n",
       "    </tr>\n",
       "    <tr>\n",
       "      <th>1</th>\n",
       "      <td>0.02731</td>\n",
       "      <td>0.0</td>\n",
       "      <td>7.07</td>\n",
       "      <td>0.0</td>\n",
       "      <td>0.469</td>\n",
       "      <td>6.421</td>\n",
       "      <td>78.9</td>\n",
       "      <td>4.9671</td>\n",
       "      <td>2.0</td>\n",
       "      <td>242.0</td>\n",
       "      <td>17.8</td>\n",
       "      <td>396.90</td>\n",
       "      <td>9.14</td>\n",
       "      <td>21.6</td>\n",
       "    </tr>\n",
       "    <tr>\n",
       "      <th>2</th>\n",
       "      <td>0.02729</td>\n",
       "      <td>0.0</td>\n",
       "      <td>7.07</td>\n",
       "      <td>0.0</td>\n",
       "      <td>0.469</td>\n",
       "      <td>7.185</td>\n",
       "      <td>61.1</td>\n",
       "      <td>4.9671</td>\n",
       "      <td>2.0</td>\n",
       "      <td>242.0</td>\n",
       "      <td>17.8</td>\n",
       "      <td>392.83</td>\n",
       "      <td>4.03</td>\n",
       "      <td>34.7</td>\n",
       "    </tr>\n",
       "    <tr>\n",
       "      <th>3</th>\n",
       "      <td>0.03237</td>\n",
       "      <td>0.0</td>\n",
       "      <td>2.18</td>\n",
       "      <td>0.0</td>\n",
       "      <td>0.458</td>\n",
       "      <td>6.998</td>\n",
       "      <td>45.8</td>\n",
       "      <td>6.0622</td>\n",
       "      <td>3.0</td>\n",
       "      <td>222.0</td>\n",
       "      <td>18.7</td>\n",
       "      <td>394.63</td>\n",
       "      <td>2.94</td>\n",
       "      <td>33.4</td>\n",
       "    </tr>\n",
       "    <tr>\n",
       "      <th>4</th>\n",
       "      <td>0.06905</td>\n",
       "      <td>0.0</td>\n",
       "      <td>2.18</td>\n",
       "      <td>0.0</td>\n",
       "      <td>0.458</td>\n",
       "      <td>7.147</td>\n",
       "      <td>54.2</td>\n",
       "      <td>6.0622</td>\n",
       "      <td>3.0</td>\n",
       "      <td>222.0</td>\n",
       "      <td>18.7</td>\n",
       "      <td>396.90</td>\n",
       "      <td>5.33</td>\n",
       "      <td>36.2</td>\n",
       "    </tr>\n",
       "  </tbody>\n",
       "</table>\n",
       "</div>"
      ],
      "text/plain": [
       "      CRIM    ZN  INDUS  CHAS    NOX     RM   AGE     DIS  RAD    TAX  \\\n",
       "0  0.00632  18.0   2.31   0.0  0.538  6.575  65.2  4.0900  1.0  296.0   \n",
       "1  0.02731   0.0   7.07   0.0  0.469  6.421  78.9  4.9671  2.0  242.0   \n",
       "2  0.02729   0.0   7.07   0.0  0.469  7.185  61.1  4.9671  2.0  242.0   \n",
       "3  0.03237   0.0   2.18   0.0  0.458  6.998  45.8  6.0622  3.0  222.0   \n",
       "4  0.06905   0.0   2.18   0.0  0.458  7.147  54.2  6.0622  3.0  222.0   \n",
       "\n",
       "   PTRATIO       B  LSTAT  PRICE  \n",
       "0     15.3  396.90   4.98   24.0  \n",
       "1     17.8  396.90   9.14   21.6  \n",
       "2     17.8  392.83   4.03   34.7  \n",
       "3     18.7  394.63   2.94   33.4  \n",
       "4     18.7  396.90   5.33   36.2  "
      ]
     },
     "execution_count": 4,
     "metadata": {},
     "output_type": "execute_result"
    }
   ],
   "source": [
    "boston_df = pd.DataFrame(data, columns=np.array(headers[:-1]).flatten())\n",
    "boston_df['PRICE'] = target\n",
    "boston_df.head()"
   ]
  },
  {
   "cell_type": "markdown",
   "metadata": {},
   "source": [
    "## 2.2 数据清洗\n",
    "\n",
    "- 检查缺失值：通过`isnull()`和`sum()`检查数据的缺失情况。\n",
    "- 处理异常值：我们将对一些特征进行异常值处理（例如，通过IQR方法处理RM和AGE列的异常值）。\n",
    "- 特征缩放：对于一些数值型特征（如CRIM、ZN等），我们进行标准化处理。"
   ]
  },
  {
   "cell_type": "code",
   "execution_count": 5,
   "metadata": {
    "execution": {
     "iopub.execute_input": "2025-03-24T07:54:11.235171Z",
     "iopub.status.busy": "2025-03-24T07:54:11.234246Z",
     "iopub.status.idle": "2025-03-24T07:54:11.261566Z",
     "shell.execute_reply": "2025-03-24T07:54:11.260051Z",
     "shell.execute_reply.started": "2025-03-24T07:54:11.235101Z"
    }
   },
   "outputs": [
    {
     "name": "stdout",
     "output_type": "stream",
     "text": [
      "CRIM       0\n",
      "ZN         0\n",
      "INDUS      0\n",
      "CHAS       0\n",
      "NOX        0\n",
      "RM         0\n",
      "AGE        0\n",
      "DIS        0\n",
      "RAD        0\n",
      "TAX        0\n",
      "PTRATIO    0\n",
      "B          0\n",
      "LSTAT      0\n",
      "PRICE      0\n",
      "dtype: int64\n"
     ]
    }
   ],
   "source": [
    "# 检查缺失值\n",
    "print(boston_df.isnull().sum())\n",
    "# 通过IQR方法清除异常值（如RM和AGE列）\n",
    "Q1 = boston_df[['RM', 'AGE']].quantile(0.25)\n",
    "Q3 = boston_df[['RM', 'AGE']].quantile(0.75)\n",
    "IQR = Q3 - Q1\n",
    "# 创建异常值条件\n",
    "outlier_condition = ((boston_df[['RM', 'AGE']] < (Q1 - 1.5 * IQR)) | (boston_df[['RM', 'AGE']] > (Q3 + 1.5 * IQR))).any(axis=1)\n",
    "\n",
    "# 使用逻辑否定而不是按位取反\n",
    "filtered_df = boston_df[outlier_condition == False]"
   ]
  },
  {
   "cell_type": "code",
   "execution_count": 6,
   "metadata": {
    "execution": {
     "iopub.execute_input": "2025-03-24T07:54:11.430380Z",
     "iopub.status.busy": "2025-03-24T07:54:11.429647Z",
     "iopub.status.idle": "2025-03-24T07:54:11.467001Z",
     "shell.execute_reply": "2025-03-24T07:54:11.465652Z",
     "shell.execute_reply.started": "2025-03-24T07:54:11.430319Z"
    }
   },
   "outputs": [
    {
     "name": "stdout",
     "output_type": "stream",
     "text": [
      "      INDUS       NOX       DIS       RAD       TAX   PTRATIO         B  \\\n",
      "0 -1.308367 -0.142470  0.116725 -0.976413 -0.674961 -1.535035  0.438730   \n",
      "1 -0.609894 -0.734890  0.531235 -0.861228 -0.997695 -0.349488  0.438730   \n",
      "2 -0.609894 -0.734890  0.531235 -0.861228 -0.997695 -0.349488  0.394039   \n",
      "3 -1.327443 -0.829334  1.048769 -0.746042 -1.117226  0.077310  0.413804   \n",
      "4 -1.327443 -0.829334  1.048769 -0.746042 -1.117226  0.077310  0.438730   \n",
      "\n",
      "      LSTAT  PRICE   AGE     CRIM    ZN     RM  CHAS  \n",
      "0 -1.160725   24.0  65.2  0.00632  18.0  6.575   0.0  \n",
      "1 -0.544365   21.6  78.9  0.02731   0.0  6.421   0.0  \n",
      "2 -1.301481   34.7  61.1  0.02729   0.0  7.185   0.0  \n",
      "3 -1.462979   33.4  45.8  0.03237   0.0  6.998   0.0  \n",
      "4 -1.108868   36.2  54.2  0.06905   0.0  7.147   0.0  \n"
     ]
    }
   ],
   "source": [
    "# 标准化处理数值型特征\n",
    "# 1. 选择需要标准化的特征（不包括 'AGE', 'CRIM', 'ZN'，'RM'）\n",
    "features_to_scale = ['INDUS', 'NOX', 'DIS', 'RAD', 'TAX', 'PTRATIO','B', 'LSTAT']\n",
    "\n",
    "# 2. 标准化处理选定的数值型特征\n",
    "from sklearn.preprocessing import StandardScaler\n",
    "scaler = StandardScaler()\n",
    "\n",
    "# 将这些特征进行标准化\n",
    "scaled_features = scaler.fit_transform(filtered_df[features_to_scale])\n",
    "\n",
    "# 将标准化后的特征与原数据合并\n",
    "scaled_df = pd.DataFrame(scaled_features, columns=features_to_scale)\n",
    "\n",
    "# 将目标变量（'PRICE'）和不需要标准化的特征合并回去\n",
    "scaled_df['PRICE'] = filtered_df['PRICE'].reset_index(drop=True)\n",
    "scaled_df['AGE'] = filtered_df['AGE'].reset_index(drop=True)\n",
    "scaled_df['CRIM'] = filtered_df['CRIM'].reset_index(drop=True)\n",
    "scaled_df['ZN'] = filtered_df['ZN'].reset_index(drop=True)\n",
    "scaled_df['RM'] = filtered_df['RM'].reset_index(drop=True)\n",
    "scaled_df['CHAS'] = filtered_df['CHAS'].reset_index(drop=True)\n",
    "\n",
    "# 查看标准化后的数据框\n",
    "print(scaled_df.head())"
   ]
  },
  {
   "cell_type": "markdown",
   "metadata": {},
   "source": [
    "## 2.3 特征工程\n",
    "\n",
    "- 特征选择：我们将删除一些与房价无关的特征（如TAX列与RAD列）。\n",
    "- 数据转换：将房价PRICE转换为分类数据，使用`cut`方法将房价分为低、中、高三类。"
   ]
  },
  {
   "cell_type": "code",
   "execution_count": 7,
   "metadata": {
    "execution": {
     "iopub.execute_input": "2025-03-24T07:54:11.824732Z",
     "iopub.status.busy": "2025-03-24T07:54:11.823811Z",
     "iopub.status.idle": "2025-03-24T07:54:11.845216Z",
     "shell.execute_reply": "2025-03-24T07:54:11.843793Z",
     "shell.execute_reply.started": "2025-03-24T07:54:11.824655Z"
    }
   },
   "outputs": [
    {
     "name": "stdout",
     "output_type": "stream",
     "text": [
      "   PRICE PRICE_Category\n",
      "0   24.0         Medium\n",
      "1   21.6         Medium\n",
      "2   34.7         Medium\n",
      "3   33.4         Medium\n",
      "4   36.2         Medium\n",
      "5   28.7         Medium\n",
      "6   22.9         Medium\n",
      "7   27.1         Medium\n",
      "8   16.5            Low\n",
      "9   18.9            Low\n"
     ]
    }
   ],
   "source": [
    "# 删除与房价无关的特征（如'TAX'和'RAD'）\n",
    "scaled_df.drop(columns=['TAX', 'RAD'], inplace=True)\n",
    "# 将房价分为低、中、高三类\n",
    "bins = [0, 20, 40, np.inf]\n",
    "labels = ['Low', 'Medium', 'High']\n",
    "scaled_df['PRICE_Category'] = pd.cut(scaled_df['PRICE'], bins=bins, labels=labels)\n",
    "print(scaled_df[['PRICE', 'PRICE_Category']].head(10))"
   ]
  },
  {
   "cell_type": "markdown",
   "metadata": {},
   "source": [
    "## 2.4 分组与聚合\n",
    "\n",
    "- 按PRICE_Category分组：分析不同房价分类下的平均特征值，查看哪些特征对房价有较大影响。"
   ]
  },
  {
   "cell_type": "code",
   "execution_count": 8,
   "metadata": {
    "execution": {
     "iopub.execute_input": "2025-03-24T07:54:12.207259Z",
     "iopub.status.busy": "2025-03-24T07:54:12.206188Z",
     "iopub.status.idle": "2025-03-24T07:54:12.228499Z",
     "shell.execute_reply": "2025-03-24T07:54:12.227042Z",
     "shell.execute_reply.started": "2025-03-24T07:54:12.207184Z"
    }
   },
   "outputs": [
    {
     "name": "stdout",
     "output_type": "stream",
     "text": [
      "                   INDUS       NOX       DIS   PTRATIO         B     LSTAT  \\\n",
      "PRICE_Category                                                               \n",
      "Low             0.532283  0.576798 -0.411745  0.433541 -0.397241  0.782154   \n",
      "Medium         -0.442006 -0.480362  0.364317 -0.316255  0.315214 -0.580390   \n",
      "High            0.078646  0.112396 -0.498611 -0.790876  0.227615 -1.234693   \n",
      "\n",
      "                    PRICE        AGE      CRIM         ZN        RM      CHAS  \n",
      "PRICE_Category                                                                 \n",
      "Low             15.294737  85.615789  6.733941   2.715311  5.958000  0.038278  \n",
      "Medium          25.494094  53.711417  0.797104  17.669291  6.422087  0.074803  \n",
      "High            46.684615  71.592308  2.981900  17.884615  6.967462  0.307692  \n"
     ]
    }
   ],
   "source": [
    "# 按房价分类分组，查看每类的平均特征值\n",
    "grouped = scaled_df.groupby('PRICE_Category', observed=True).agg('mean')\n",
    "print(grouped)"
   ]
  },
  {
   "cell_type": "markdown",
   "metadata": {},
   "source": [
    "## 2.5 数据透视表"
   ]
  },
  {
   "cell_type": "code",
   "execution_count": 9,
   "metadata": {
    "execution": {
     "iopub.execute_input": "2025-03-24T07:54:12.615027Z",
     "iopub.status.busy": "2025-03-24T07:54:12.614317Z",
     "iopub.status.idle": "2025-03-24T07:54:12.646882Z",
     "shell.execute_reply": "2025-03-24T07:54:12.645679Z",
     "shell.execute_reply.started": "2025-03-24T07:54:12.614974Z"
    }
   },
   "outputs": [
    {
     "name": "stdout",
     "output_type": "stream",
     "text": [
      "ZN        0.0    12.5   17.5   18.0   20.0   21.0   22.0   25.0   28.0   \\\n",
      "CRIM                                                                      \n",
      "0.00632     NaN    NaN    NaN   24.0    NaN    NaN    NaN    NaN    NaN   \n",
      "0.00906     NaN    NaN    NaN    NaN    NaN    NaN    NaN    NaN    NaN   \n",
      "0.01096     NaN    NaN    NaN    NaN    NaN    NaN    NaN    NaN    NaN   \n",
      "0.01301     NaN    NaN    NaN    NaN    NaN    NaN    NaN    NaN    NaN   \n",
      "0.01311     NaN    NaN    NaN    NaN    NaN    NaN    NaN    NaN    NaN   \n",
      "...         ...    ...    ...    ...    ...    ...    ...    ...    ...   \n",
      "41.52920    8.5    NaN    NaN    NaN    NaN    NaN    NaN    NaN    NaN   \n",
      "51.13580   15.0    NaN    NaN    NaN    NaN    NaN    NaN    NaN    NaN   \n",
      "67.92080    5.0    NaN    NaN    NaN    NaN    NaN    NaN    NaN    NaN   \n",
      "73.53410    8.8    NaN    NaN    NaN    NaN    NaN    NaN    NaN    NaN   \n",
      "88.97620   10.4    NaN    NaN    NaN    NaN    NaN    NaN    NaN    NaN   \n",
      "\n",
      "ZN        30.0   ...  55.0   60.0   70.0   75.0   80.0   82.5   85.0   90.0   \\\n",
      "CRIM             ...                                                           \n",
      "0.00632     NaN  ...    NaN    NaN    NaN    NaN    NaN    NaN    NaN    NaN   \n",
      "0.00906     NaN  ...    NaN    NaN    NaN    NaN    NaN    NaN    NaN   32.2   \n",
      "0.01096     NaN  ...   22.0    NaN    NaN    NaN    NaN    NaN    NaN    NaN   \n",
      "0.01301     NaN  ...    NaN    NaN    NaN    NaN    NaN    NaN    NaN    NaN   \n",
      "0.01311     NaN  ...    NaN    NaN    NaN    NaN    NaN    NaN    NaN   35.4   \n",
      "...         ...  ...    ...    ...    ...    ...    ...    ...    ...    ...   \n",
      "41.52920    NaN  ...    NaN    NaN    NaN    NaN    NaN    NaN    NaN    NaN   \n",
      "51.13580    NaN  ...    NaN    NaN    NaN    NaN    NaN    NaN    NaN    NaN   \n",
      "67.92080    NaN  ...    NaN    NaN    NaN    NaN    NaN    NaN    NaN    NaN   \n",
      "73.53410    NaN  ...    NaN    NaN    NaN    NaN    NaN    NaN    NaN    NaN   \n",
      "88.97620    NaN  ...    NaN    NaN    NaN    NaN    NaN    NaN    NaN    NaN   \n",
      "\n",
      "ZN        95.0   100.0  \n",
      "CRIM                    \n",
      "0.00632     NaN    NaN  \n",
      "0.00906     NaN    NaN  \n",
      "0.01096     NaN    NaN  \n",
      "0.01301     NaN    NaN  \n",
      "0.01311     NaN    NaN  \n",
      "...         ...    ...  \n",
      "41.52920    NaN    NaN  \n",
      "51.13580    NaN    NaN  \n",
      "67.92080    NaN    NaN  \n",
      "73.53410    NaN    NaN  \n",
      "88.97620    NaN    NaN  \n",
      "\n",
      "[475 rows x 26 columns]\n"
     ]
    }
   ],
   "source": [
    "# 创建透视表，计算不同CRIM和ZN值下的平均房价\n",
    "pivot_table = pd.pivot_table(scaled_df, values='PRICE', index='CRIM', columns='ZN', aggfunc='mean')\n",
    "print(pivot_table)"
   ]
  },
  {
   "cell_type": "markdown",
   "metadata": {},
   "source": [
    "## 2.6 高级pandas技巧\n",
    "\n",
    "- 自定义聚合函数：我们将使用自定义聚合函数，计算不同PRICE_Category下的最大CRIM和最小AGE。\n",
    "- 多重筛选：我们将通过多重条件筛选出特定条件下的数据。"
   ]
  },
  {
   "cell_type": "code",
   "execution_count": 10,
   "metadata": {
    "execution": {
     "iopub.execute_input": "2025-03-24T07:54:13.013313Z",
     "iopub.status.busy": "2025-03-24T07:54:13.012778Z",
     "iopub.status.idle": "2025-03-24T07:54:13.041864Z",
     "shell.execute_reply": "2025-03-24T07:54:13.040737Z",
     "shell.execute_reply.started": "2025-03-24T07:54:13.013259Z"
    }
   },
   "outputs": [
    {
     "name": "stdout",
     "output_type": "stream",
     "text": [
      "              AGE        CRIM\n",
      "count  476.000000  476.000000\n",
      "mean    68.208193    3.463493\n",
      "std     28.220114    8.437571\n",
      "min      2.900000    0.006320\n",
      "25%     44.225000    0.082155\n",
      "50%     76.800000    0.240075\n",
      "75%     94.025000    3.674808\n",
      "max    100.000000   88.976200\n",
      "        INDUS       NOX       DIS   PTRATIO         B     LSTAT  PRICE   AGE  \\\n",
      "0   -1.308367 -0.142470  0.116725 -1.535035  0.438730 -1.160725   24.0  65.2   \n",
      "1   -0.609894 -0.734890  0.531235 -0.349488  0.438730 -0.544365   21.6  78.9   \n",
      "2   -0.609894 -0.734890  0.531235 -0.349488  0.394039 -1.301481   34.7  61.1   \n",
      "6   -0.492503 -0.262671  0.811670 -1.582457  0.424455 -0.056906   22.9  66.6   \n",
      "7   -0.492503 -0.262671  0.995981 -1.582457  0.438730  0.938754   27.1  96.1   \n",
      "..        ...       ...       ...       ...       ...       ...    ...   ...   \n",
      "471  0.103253  0.158033 -0.644809  1.168014  0.384815 -0.465838   22.4  69.1   \n",
      "472  0.103253  0.158033 -0.735121  1.168014  0.438730 -0.553254   20.6  76.7   \n",
      "473  0.103253  0.158033 -0.791832  1.168014  0.438730 -1.062937   23.9  91.0   \n",
      "474  0.103253  0.158033 -0.687200  1.168014  0.400847 -0.938480   22.0  89.3   \n",
      "475  0.103253  0.158033 -0.632332  1.168014  0.438730 -0.731051   11.9  80.8   \n",
      "\n",
      "        CRIM    ZN     RM  CHAS PRICE_Category  \n",
      "0    0.00632  18.0  6.575   0.0         Medium  \n",
      "1    0.02731   0.0  6.421   0.0         Medium  \n",
      "2    0.02729   0.0  7.185   0.0         Medium  \n",
      "6    0.08829  12.5  6.012   0.0         Medium  \n",
      "7    0.14455  12.5  6.172   0.0         Medium  \n",
      "..       ...   ...    ...   ...            ...  \n",
      "471  0.06263   0.0  6.593   0.0         Medium  \n",
      "472  0.04527   0.0  6.120   0.0         Medium  \n",
      "473  0.06076   0.0  6.976   0.0         Medium  \n",
      "474  0.10959   0.0  6.794   0.0         Medium  \n",
      "475  0.04741   0.0  6.030   0.0            Low  \n",
      "\n",
      "[145 rows x 13 columns]\n"
     ]
    }
   ],
   "source": [
    "# 查看 'AGE' 和 'CRIM' 列的基本统计信息\n",
    "print(scaled_df[['AGE', 'CRIM']].describe())\n",
    "# 筛选出年龄大于 60 且 CRIM 值小于 1 的数据\n",
    "filtered_data = scaled_df[(scaled_df['AGE'] > 60) & (scaled_df['CRIM'] < 1)]\n",
    "# 显示筛选后的数据\n",
    "print(filtered_data)"
   ]
  },
  {
   "cell_type": "markdown",
   "metadata": {},
   "source": [
    "在这里，我们首先通过`describe()`方法查看了 AGE 和 CRIM 的分布情况，然后根据数据分布进行筛选，确保条件有效。\n",
    "\n",
    "## 2.7 数据可视化\n",
    "通过matplotlib和seaborn绘制多个图表，以便直观地了解不同特征与房价之间的关系。"
   ]
  },
  {
   "cell_type": "code",
   "execution_count": 11,
   "metadata": {
    "execution": {
     "iopub.execute_input": "2025-03-24T07:54:13.429249Z",
     "iopub.status.busy": "2025-03-24T07:54:13.428763Z",
     "iopub.status.idle": "2025-03-24T07:54:13.871149Z",
     "shell.execute_reply": "2025-03-24T07:54:13.870394Z",
     "shell.execute_reply.started": "2025-03-24T07:54:13.429209Z"
    }
   },
   "outputs": [
    {
     "data": {
      "image/png": "[encoded data removed]",
      "text/plain": [
       "<Figure size 640x480 with 1 Axes>"
      ]
     },
     "metadata": {},
     "output_type": "display_data"
    },
    {
     "data": {
      "image/png": "[encoded data removed]",
      "text/plain": [
       "<Figure size 640x480 with 1 Axes>"
      ]
     },
     "metadata": {},
     "output_type": "display_data"
    },
    {
     "data": {
      "image/png": "[encoded data removed]",
      "text/plain": [
       "<Figure size 640x480 with 1 Axes>"
      ]
     },
     "metadata": {},
     "output_type": "display_data"
    }
   ],
   "source": [
    "# 1. 绘制房价分布\n",
    "sns.histplot(scaled_df['PRICE'], kde=True)\n",
    "plt.title('Distribution of Prices')\n",
    "plt.show()\n",
    "# 2. 绘制每个房价分类的特征分布\n",
    "sns.boxplot(x='PRICE_Category', y='CRIM', data=scaled_df)\n",
    "plt.title('CRIM Distribution by Price Category')\n",
    "plt.show()\n",
    "# 3. 绘制房价与房间数量(RM)的关系\n",
    "sns.scatterplot(x='RM', y='PRICE', data=scaled_df)\n",
    "plt.title('Price vs RM')\n",
    "plt.show()"
   ]
  },
  {
   "cell_type": "markdown",
   "metadata": {},
   "source": [
    "## 2.8 实验完整步骤\n",
    "1. 加载波士顿房价数据集：通过sklearn加载数据并将其转换为pandas DataFrame对象。\n",
    "2. 数据清洗：处理缺失值、异常值，并进行标准化处理。\n",
    "3. 特征工程：删除无关特征、将房价分为分类变量等。\n",
    "4. 分组与聚合：使用`groupby`和`agg`分析数据。\n",
    "5. 创建透视表：通过`pivot_table`查看不同特征之间的关系。\n",
    "6. 优化筛选条件：根据数据的统计特性优化筛选条件，确保筛选结果有效。\n",
    "7. 可视化：使用seaborn和matplotlib绘制图表进行数据可视化。"
   ]
  },
  {
   "cell_type": "markdown",
   "metadata": {},
   "source": [
    "# 三、作业要求\n",
    "\n",
    "1. 简述聚类算法的k的含义和作用。本实验中k表示什么？具体数值是几？\n",
    "2. 简述提高聚类算法准确度的方法。\n",
    "3. 尝试使用pandas的pivot_table进行更复杂的数据透视分析。(选做)"
   ]
  },
  {
   "cell_type": "code",
   "execution_count": 12,
   "metadata": {},
   "outputs": [],
   "source": [
    "# 请在此处填写答案"
   ]
  },
  {
   "cell_type": "markdown",
   "metadata": {},
   "source": [
    "# 四、实验总结\n",
    "通过本次实验，我们深入学习了`pandas`库在数据分析中的多种功能，包括数据清洗、特征工程、分组聚合、数据合并和高级技巧。掌握了如何使用`pandas`进行复杂的数据分析任务，并通过可视化帮助我们理解数据的分布和特征之间的关系。"
   ]
  }
 ],
 "metadata": {
  "kernelspec": {
   "display_name": "taichi",
   "language": "python",
   "name": "python3"
  },
  "language_info": {
   "codemirror_mode": {
    "name": "ipython",
    "version": 3
   },
   "file_extension": ".py",
   "mimetype": "text/x-python",
   "name": "python",
   "nbconvert_exporter": "python",
   "pygments_lexer": "ipython3",
   "version": "3.12.9"
  }
 },
 "nbformat": 4,
 "nbformat_minor": 4
}
